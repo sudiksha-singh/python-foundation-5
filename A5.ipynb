{
 "cells": [
  {
   "cell_type": "code",
   "execution_count": null,
   "id": "94f79127-dfec-438d-b637-4b2637ab45c9",
   "metadata": {},
   "outputs": [],
   "source": [
    "#1\n",
    "#In Python, a set is an unordered collection of unique elements. Sets are defined using curly braces {} or the set() constructor. They are mutable, meaning you can add or remove elements from them. Sets do not allow duplicate elements."
   ]
  },
  {
   "cell_type": "code",
   "execution_count": 5,
   "id": "a9b6baf4-cfe3-4525-b557-1143fc408f17",
   "metadata": {},
   "outputs": [],
   "source": [
    "#2\n",
    "set1 = {1, 2, 3, 4, 5}\n",
    "set2 = (1, 3, 4, 5)"
   ]
  },
  {
   "cell_type": "code",
   "execution_count": 6,
   "id": "1f4fb8a4-014b-4fb4-b901-d4e5a8c1b872",
   "metadata": {},
   "outputs": [],
   "source": [
    "#3\n",
    "#add elements to a set using the add() method or by using the update() \n",
    "\n",
    "s1 = {1, 2, 3}\n",
    "s1.add(4)\n",
    "\n",
    "s1 = {1, 2, 3}\n",
    "s1.update([4, 5, 6])"
   ]
  },
  {
   "cell_type": "code",
   "execution_count": 4,
   "id": "e6e82cf3-1610-410c-821f-08f8dd530d3e",
   "metadata": {},
   "outputs": [],
   "source": [
    "#4\n",
    "#remove elements from a set using the remove() or discard() methods to remove a specific element, or using the pop()\n",
    "\n",
    "my_set = {1, 2, 3, 4}\n",
    "my_set.remove(3)\n",
    "\n",
    "my_set = {1, 2, 3, 4}\n",
    "my_set.discard(3)\n",
    "\n",
    "my_set = {1, 2, 3, 4}\n",
    "popped_element = my_set.pop()"
   ]
  },
  {
   "cell_type": "code",
   "execution_count": 1,
   "id": "579cf5b3-b3a9-4351-bcb6-0041d7dc64f1",
   "metadata": {},
   "outputs": [
    {
     "name": "stdout",
     "output_type": "stream",
     "text": [
      "5\n"
     ]
    }
   ],
   "source": [
    "#5\n",
    "s1 = {1, 2, 3, 4, 5}\n",
    "length = len(s1)\n",
    "print(length)"
   ]
  },
  {
   "cell_type": "code",
   "execution_count": null,
   "id": "9684e34f-d104-4922-8e5e-ea0119703095",
   "metadata": {},
   "outputs": [],
   "source": []
  }
 ],
 "metadata": {
  "kernelspec": {
   "display_name": "Python 3 (ipykernel)",
   "language": "python",
   "name": "python3"
  },
  "language_info": {
   "codemirror_mode": {
    "name": "ipython",
    "version": 3
   },
   "file_extension": ".py",
   "mimetype": "text/x-python",
   "name": "python",
   "nbconvert_exporter": "python",
   "pygments_lexer": "ipython3",
   "version": "3.10.8"
  }
 },
 "nbformat": 4,
 "nbformat_minor": 5
}
